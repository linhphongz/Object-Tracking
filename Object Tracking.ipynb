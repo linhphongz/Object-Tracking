{
 "cells": [
  {
   "cell_type": "markdown",
   "metadata": {},
   "source": [
    "## Import  libs"
   ]
  },
  {
   "cell_type": "code",
   "execution_count": 1,
   "metadata": {},
   "outputs": [
    {
     "name": "stderr",
     "output_type": "stream",
     "text": [
      "c:\\Users\\ngvul\\AppData\\Local\\Programs\\Python\\Python312\\Lib\\site-packages\\tqdm\\auto.py:21: TqdmWarning: IProgress not found. Please update jupyter and ipywidgets. See https://ipywidgets.readthedocs.io/en/stable/user_install.html\n",
      "  from .autonotebook import tqdm as notebook_tqdm\n"
     ]
    }
   ],
   "source": [
    "import cv2\n",
    "import torch\n",
    "import numpy as np\n",
    "from deep_sort_realtime.deepsort_tracker import DeepSort\n",
    "from models.common import DetectMultiBackend, AutoShape\n"
   ]
  },
  {
   "cell_type": "markdown",
   "metadata": {},
   "source": [
    "## Config value"
   ]
  },
  {
   "cell_type": "code",
   "execution_count": 2,
   "metadata": {},
   "outputs": [],
   "source": [
    "video_path = r\"./data_ext/caotoc.mp4\"\n",
    "conf_threshold = 0.6\n",
    "tracking_class = 2"
   ]
  },
  {
   "cell_type": "markdown",
   "metadata": {},
   "source": [
    "## Init DeepSort"
   ]
  },
  {
   "cell_type": "code",
   "execution_count": 3,
   "metadata": {},
   "outputs": [],
   "source": [
    "tracker = DeepSort(max_age=5) #max_age = 5 : after 5s will remove if it doesnt appear"
   ]
  },
  {
   "cell_type": "markdown",
   "metadata": {},
   "source": [
    "## Load model"
   ]
  },
  {
   "cell_type": "code",
   "execution_count": 4,
   "metadata": {},
   "outputs": [
    {
     "name": "stderr",
     "output_type": "stream",
     "text": [
      "Fusing layers... \n",
      "gelan-c summary: 387 layers, 25288768 parameters, 23646704 gradients, 102.1 GFLOPs\n",
      "Adding AutoShape... \n"
     ]
    }
   ],
   "source": [
    "device = \"cpu\"\n",
    "model = DetectMultiBackend(weights=r\".\\weights\\yolov9-c-converted.pt\")\n",
    "model = AutoShape(model)"
   ]
  },
  {
   "cell_type": "code",
   "execution_count": 16,
   "metadata": {},
   "outputs": [
    {
     "name": "stdout",
     "output_type": "stream",
     "text": [
      "['person', 'bicycle', 'car', 'motorbike', 'aeroplane', 'bus', 'train', 'truck', 'boat', 'traffic light', 'fire hydrant', 'stop sign', 'parking meter', 'bench', 'bird', 'cat', 'dog', 'horse', 'sheep', 'cow', 'elephant', 'bear', 'zebra', 'giraffe', 'backpack', 'umbrella', 'handbag', 'tie', 'suitcase', 'frisbee', 'skis', 'snowboard', 'sports ball', 'kite', 'baseball bat', 'baseball glove', 'skateboard', 'surfboard', 'tennis racket', 'bottle', 'wine glass', 'cup', 'fork', 'knife', 'spoon', 'bowl', 'banana', 'apple', 'sandwich', 'orange', 'broccoli', 'carrot', 'hot dog', 'pizza', 'donut', 'cake', 'chair', 'sofa', 'potted plant', 'bed', 'dining table', 'toilet', 'tvmonitor', 'laptop', 'mouse', 'remote', 'keyboard', 'cell phone', 'microwave', 'oven', 'toaster', 'sink', 'refrigerator', 'book', 'clock', 'vase', 'scissors', 'teddy bear', 'hair drier', 'toothbrush']\n",
      "(80, 3)\n"
     ]
    }
   ],
   "source": [
    "#Load classname from file classname\n",
    "with open(r\".\\data_ext\\classname.txt\") as f:\n",
    "    class_names = f.read().strip().split('\\n')\n",
    "print(class_names)\n",
    "color = np.random.randint(0,255, size=(len(class_names),3 ))\n",
    "print(color.shape)\n",
    "tracks = []\n",
    "\n",
    "#Init VideoCapture from CV2:\n",
    "cap = cv2.VideoCapture(video_path)\n",
    "\n",
    "#Read frames \n",
    "while True:\n",
    "    ret,frame = cap.read()\n",
    "    #Dectection through Model\n",
    "    result = model(frame)\n",
    "    detect = []\n",
    "    for detect_object  in result.pred[0]:\n",
    "        label ,confidence, bbox  = detect_object[5],detect_object[4] , detect_object[:4]\n",
    "        x1,y1,x2,y2 = map(int,bbox)\n",
    "        class_id = int(label)\n",
    "        if tracking_class is None:\n",
    "            if confidence < conf_threshold:\n",
    "                continue\n",
    "            else:\n",
    "                if class_id == tracking_class or confidence < conf_threshold:\n",
    "                    continue\n",
    "        detect.append([[x1,y1,x2-x1,y2-y1],confidence,class_id])\n",
    "    tracks = tracker.update_tracks(detect,frame=frame)\n",
    "    for track in tracks:\n",
    "        if track.is_confirmed():\n",
    "            track_id = track.track_id\n",
    "            ltrb = track.to_ltrb()\n",
    "            class_id = track.get_det_class()\n",
    "            colorz = color[class_id]\n",
    "            x1,y1,x2,y2 = map(int,ltrb)\n",
    "            B , G , R = map(int,colorz)\n",
    "            label = \"{}-{}\".format(class_names[class_id],track_id)\n",
    "            cv2.rectangle(frame, (x1, y1), (x2, y2), (B, G, R), 2)\n",
    "            cv2.rectangle(frame, (x1 - 1, y1 - 20), (x1 + len(label) * 12, y1), (B, G, R), -1)\n",
    "            cv2.putText(frame, label, (x1 + 5, y1 - 8), cv2.FONT_HERSHEY_SIMPLEX, 0.5, (255, 255, 255), 2)\n",
    "    #Show img\n",
    "    cv2.imshow(\"OT\",frame)\n",
    "    if cv2.waitKey(1) == ord(\"q\"):\n",
    "        break\n",
    "cap.release()\n",
    "cv2.destroyAllWindows()\n",
    "\n"
   ]
  }
 ],
 "metadata": {
  "kernelspec": {
   "display_name": "Python 3",
   "language": "python",
   "name": "python3"
  },
  "language_info": {
   "codemirror_mode": {
    "name": "ipython",
    "version": 3
   },
   "file_extension": ".py",
   "mimetype": "text/x-python",
   "name": "python",
   "nbconvert_exporter": "python",
   "pygments_lexer": "ipython3",
   "version": "3.12.2"
  }
 },
 "nbformat": 4,
 "nbformat_minor": 2
}
